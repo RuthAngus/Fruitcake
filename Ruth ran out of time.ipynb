{
 "metadata": {
  "name": "",
  "signature": "sha256:be5df48579cb54c5bd59fc2a5567bbc9deb29e5d49f3765d88923d7af7bb0f55"
 },
 "nbformat": 3,
 "nbformat_minor": 0,
 "worksheets": [
  {
   "cells": [
    {
     "cell_type": "code",
     "collapsed": false,
     "input": [
      "import numpy as np\n",
      "import matplotlib.pyplot as plt\n",
      "%matplotlib inline"
     ],
     "language": "python",
     "metadata": {},
     "outputs": [],
     "prompt_number": 2
    },
    {
     "cell_type": "markdown",
     "metadata": {},
     "source": [
      "Load the data"
     ]
    },
    {
     "cell_type": "code",
     "collapsed": false,
     "input": [
      "ph, age, x, y, pa = np.genfromtxt(\"ruth_data.csv\", skip_header=1, invalid_raise=False).T"
     ],
     "language": "python",
     "metadata": {},
     "outputs": [
      {
       "output_type": "stream",
       "stream": "stderr",
       "text": [
        "/Users/angusr/anaconda/lib/python2.7/site-packages/numpy/lib/npyio.py:1695: ConversionWarning: Some errors were detected !\n",
        "    Line #16 (got 2 columns instead of 5)\n",
        "    Line #20 (got 2 columns instead of 5)\n",
        "  warnings.warn(errmsg, ConversionWarning)\n"
       ]
      }
     ],
     "prompt_number": 4
    },
    {
     "cell_type": "code",
     "collapsed": false,
     "input": [
      "# fit a straight line\n",
      "AT = np.vstack((x, np.ones_like(x)))\n",
      "ATA = np.dot(AT, AT.T)\n",
      "m, c = np.linalg.solve(ATA, np.dot(AT, y))\n",
      "print m, c"
     ],
     "language": "python",
     "metadata": {},
     "outputs": [
      {
       "output_type": "stream",
       "stream": "stdout",
       "text": [
        "1.28003120154 -66.5578039291\n"
       ]
      }
     ],
     "prompt_number": 6
    },
    {
     "cell_type": "code",
     "collapsed": false,
     "input": [
      "def stoopid_model(m, c, height):\n",
      "    return (height - c)/m\n",
      "    \n",
      "# plot ph vs pw\n",
      "xs = np.linspace(min(x), max(x), 100)\n",
      "plt.plot(xs, m*xs + c)\n",
      "plt.plot(x, y, \"k.\")\n",
      "plt.xlabel(\"weight\")\n",
      "plt.ylabel(\"height\")"
     ],
     "language": "python",
     "metadata": {},
     "outputs": [
      {
       "metadata": {},
       "output_type": "pyout",
       "prompt_number": 8,
       "text": [
        "<matplotlib.text.Text at 0x1082e6ad0>"
       ]
      },
      {
       "metadata": {},
       "output_type": "display_data",
       "png": "[encoded data removed]",
       "text": [
        "<matplotlib.figure.Figure at 0x10821a950>"
       ]
      }
     ],
     "prompt_number": 8
    },
    {
     "cell_type": "code",
     "collapsed": false,
     "input": [
      "# estimate phil's weight\n",
      "phil_height = np.mean(ph)\n",
      "phil_weight = stoopid_model(m, c, phil_height)\n",
      "std = np.std(ph)\n",
      "print \"phil weighs\", phil_weight, \"+/-\", m*std, \"lbs\""
     ],
     "language": "python",
     "metadata": {},
     "outputs": []
    }
   ],
   "metadata": {}
  }
 ]
}